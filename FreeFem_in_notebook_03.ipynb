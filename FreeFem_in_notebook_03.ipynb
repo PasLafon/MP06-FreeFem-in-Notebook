{
 "cells": [
  {
   "cell_type": "markdown",
   "metadata": {},
   "source": [
    "# Running FreeFem++ inside a Notebook\n",
    "\n",
    "<div align=\"right\"> <a href=\"mailto:pascal.lafon@utt.fr\">Pascal Lafon</a> - Novembre 2020 </div>\n",
    "\n",
    "----\n",
    "### Bi directionnal communication with  `FreeFem++` in a Notebook :\n",
    "* This notebook presents basic concept to pass parameters from command line to `FreeFem++` and read results from `FreeFem++`.\n",
    "* To use this notebook, you will need to have :\n",
    "    * `FreeFem++` installed on your machine\n",
    "    * The file `getARV.idp`, which define the function `getARV` in the same folder as this notebook file.\n",
    "    * The file `cantilver-2D.edp`, the model of the cantilever beam in the same folder as this notebook file.\n",
    "    * You must also check that can run `FreeFem++` using the command line `>>FreeFem++ cantilever-2D.edp`.\n",
    "    * The file `run_freefem.py`, the python module to pass parameters to `FreeFem++` and read results. This file must be in the same folder as this notebook file. \n",
    "    * Read and understand [Run FreeFem++ in notebook](https://github.com/PasLafon/MP06-FreeFem-in-Notebook01/blob/master/FreeFem_in_notebook_01.ipynb) and [Pass parameters to  FreeFem++](https://github.com/PasLafon/MP06-FreeFem-in-Notebook02/blob/master/FreeFem_in_notebook_02.ipynb)\n",
    "----"
   ]
  },
  {
   "cell_type": "markdown",
   "metadata": {},
   "source": [
    "### Module `run_freefem.py` :"
   ]
  },
  {
   "cell_type": "markdown",
   "metadata": {},
   "source": [
    "This python program (which is package as an python module) is enable to  :\n",
    "* Bluid the proper command line with parameter defined when calling this module to launch `FreeFem++`.\n",
    "* Read output of `FreeFem++` and extract all valid numerical values found in output.\n",
    "* In addition, this module :\n",
    "    * Compare the input value to the last correct given one, if these values are identical, the simulation is NOT launch, and the last corresponding output is return.\n",
    "    * Check the error from `FreeFem++` and return no numerical value and the error message from `FreeFem++`."
   ]
  },
  {
   "cell_type": "markdown",
   "metadata": {},
   "source": [
    "### Example of usage :"
   ]
  },
  {
   "cell_type": "markdown",
   "metadata": {},
   "source": [
    "In this short example, we use the model `cantilver-2D.edp` in which the rayon `r` of the hole will vary from  $2$ to $8$. Then we plot the *von Mises* maximal stress for each value of `r`."
   ]
  },
  {
   "cell_type": "code",
   "execution_count": 1,
   "metadata": {},
   "outputs": [
    {
     "data": {
      "text/plain": [
       "[<matplotlib.lines.Line2D at 0x119a23160>]"
      ]
     },
     "execution_count": 1,
     "metadata": {},
     "output_type": "execute_result"
    },
    {
     "data": {
      "image/png": "[encoded data removed]",
      "text/plain": [
       "<Figure size 432x288 with 1 Axes>"
      ]
     },
     "metadata": {
      "needs_background": "light"
     },
     "output_type": "display_data"
    }
   ],
   "source": [
    "import run_freefem as rf        # Importation of module run_freefem, named 'rf'\n",
    "import numpy as np              # Numpy for array\n",
    "import matplotlib.pyplot as plt # pyplot from matplotlib to plot graphics.\n",
    "\n",
    "# 10 values of radius from 2 to 8 :\n",
    "r_val = np.linspace(2,8,10)\n",
    "# Initialize an empty list (https://www.w3schools.com/python/python_lists.asp)\n",
    "sigmax = []\n",
    "\n",
    "# For loop :\n",
    "for r in r_val:\n",
    "    # Define input values with a Dictionary in Python (https://www.w3schools.com/python/python_dictionaries.asp)\n",
    "    # The keys 'l','h','r' correspond to the name of input arguments define in the '.edp' file.\n",
    "    input_value = {'l':400,'h':20,'r':r}\n",
    "    Out = rf.run_freefem('cantilever-2D.edp',input_value)\n",
    "    # Out[0]-> an array of output values\n",
    "    #  (depending on how many output values are written in the '.edp' file)\n",
    "    # Out[0][2] -> the third value of this array.\n",
    "    sigmax.append(Out[0][2])\n",
    "\n",
    "\n",
    "plt.plot(r_val,sigmax,'r*-')"
   ]
  },
  {
   "cell_type": "markdown",
   "metadata": {},
   "source": [
    "### Next step : [Plotting the response of FreeFem++ on a two parameters space](https://github.com/PasLafon/MP06-FreeFem-in-Notebook/blob/master/FreeFem_in_notebook_04.ipynb)"
   ]
  },
  {
   "cell_type": "code",
   "execution_count": null,
   "metadata": {},
   "outputs": [],
   "source": []
  }
 ],
 "metadata": {
  "kernelspec": {
   "display_name": "Python 3",
   "language": "python",
   "name": "python3"
  },
  "language_info": {
   "codemirror_mode": {
    "name": "ipython",
    "version": 3
   },
   "file_extension": ".py",
   "mimetype": "text/x-python",
   "name": "python",
   "nbconvert_exporter": "python",
   "pygments_lexer": "ipython3",
   "version": "3.8.5"
  }
 },
 "nbformat": 4,
 "nbformat_minor": 4
}
